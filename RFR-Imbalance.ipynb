{
 "cells": [
  {
   "cell_type": "markdown",
   "metadata": {},
   "source": [
    "# Random Forest Regressor"
   ]
  },
  {
   "cell_type": "code",
   "execution_count": 34,
   "metadata": {},
   "outputs": [],
   "source": [
    "import pandas as pd\n",
    "pd.set_option('display.max_columns', None)\n",
    "import warnings\n",
    "warnings.filterwarnings('ignore')\n",
    "import numpy as np\n",
    "import matplotlib.pyplot as plt \n",
    "import seaborn as sns  \n",
    "\n",
    "#ML\n",
    "from sklearn.ensemble import RandomForestRegressor, RandomForestClassifier\n",
    "from sklearn.model_selection import cross_val_score\n",
    "from sklearn.model_selection import TimeSeriesSplit"
   ]
  },
  {
   "cell_type": "code",
   "execution_count": 49,
   "metadata": {},
   "outputs": [],
   "source": [
    "df = pd.read_csv('C:/Projects/BatteryLevelAnalysis/data/cleaned_data.csv')"
   ]
  },
  {
   "cell_type": "code",
   "execution_count": 50,
   "metadata": {
    "scrolled": true
   },
   "outputs": [
    {
     "data": {
      "text/plain": [
       "33daef83a17d84720f7068787af3ff5d3bf481df2eb76c9b1b247ef6c3019d03    2807\n",
       "34c4bc86529de3dacbbfd001b9fe83c1597db9e62c377cd5d6a5b584e1b4aa6f    2670\n",
       "4194eb566c3f1b40f25638220a8b8df280221ecade74dbfdab6624ebb76414b8    2636\n",
       "bd9b605dba9e4ba7c3207c3007464a8791b117354a6b51adb6c15b75e11d1eb4    2586\n",
       "d4d6d0cadeb1b74f7a674ded3756a270695c0c02e414a95e3e05fb7694d1170b    2565\n",
       "                                                                    ... \n",
       "11d0909a8dc2d787ed0f6cc99d989d29b329d65a8f6ab4c1687ae15e5cf39826       2\n",
       "0cd5948e0c225c9d1dc14844cf793a62ef7739ffae638b3be3af475c6190bd4e       2\n",
       "7e34b438bc2e9d15a82aab422212715dc3ef4bf2a8ec7cd363e3950f59020e9b       2\n",
       "36d04066ae54b02f00c6c932e26c71daf12b860723d1732f642e6a014186fc93       1\n",
       "f494f6eac8b4194e27bc68afd7066386edac25995341c4c0f517775234d44e9b       1\n",
       "Name: vin, Length: 8421, dtype: int64"
      ]
     },
     "execution_count": 50,
     "metadata": {},
     "output_type": "execute_result"
    }
   ],
   "source": [
    "df.vin.value_counts()"
   ]
  },
  {
   "cell_type": "code",
   "execution_count": 51,
   "metadata": {},
   "outputs": [],
   "source": [
    "df = df.loc[df.vin == '33daef83a17d84720f7068787af3ff5d3bf481df2eb76c9b1b247ef6c3019d03']"
   ]
  },
  {
   "cell_type": "code",
   "execution_count": 5,
   "metadata": {
    "scrolled": true
   },
   "outputs": [
    {
     "data": {
      "text/html": [
       "<div>\n",
       "<style scoped>\n",
       "    .dataframe tbody tr th:only-of-type {\n",
       "        vertical-align: middle;\n",
       "    }\n",
       "\n",
       "    .dataframe tbody tr th {\n",
       "        vertical-align: top;\n",
       "    }\n",
       "\n",
       "    .dataframe thead th {\n",
       "        text-align: right;\n",
       "    }\n",
       "</style>\n",
       "<table border=\"1\" class=\"dataframe\">\n",
       "  <thead>\n",
       "    <tr style=\"text-align: right;\">\n",
       "      <th></th>\n",
       "      <th>Unnamed: 0</th>\n",
       "      <th>id</th>\n",
       "      <th>vin</th>\n",
       "      <th>actual_time</th>\n",
       "      <th>powermode</th>\n",
       "      <th>odometer</th>\n",
       "      <th>ambient_temp</th>\n",
       "      <th>vehicle_speed</th>\n",
       "      <th>balancing_status</th>\n",
       "      <th>min_voltage</th>\n",
       "      <th>min_temp</th>\n",
       "      <th>traction_current</th>\n",
       "      <th>max_voltage</th>\n",
       "      <th>imbalance</th>\n",
       "      <th>traction_voltage</th>\n",
       "      <th>max_temp</th>\n",
       "      <th>inlet_coolant_temp</th>\n",
       "      <th>thermal_manager_mode</th>\n",
       "      <th>outlet_coolant_temp</th>\n",
       "      <th>min_soh</th>\n",
       "      <th>soh</th>\n",
       "      <th>max_soh</th>\n",
       "      <th>cycle</th>\n",
       "      <th>num_cycle</th>\n",
       "    </tr>\n",
       "  </thead>\n",
       "  <tbody>\n",
       "    <tr>\n",
       "      <td>946650</td>\n",
       "      <td>983618</td>\n",
       "      <td>1022357</td>\n",
       "      <td>33daef83a17d84720f7068787af3ff5d3bf481df2eb76c...</td>\n",
       "      <td>2019-03-07 11:23:44.000</td>\n",
       "      <td>keyOut</td>\n",
       "      <td>14734</td>\n",
       "      <td>0.0</td>\n",
       "      <td>0.0</td>\n",
       "      <td>noBalancing</td>\n",
       "      <td>3.799</td>\n",
       "      <td>1.0</td>\n",
       "      <td>0.400</td>\n",
       "      <td>3.820</td>\n",
       "      <td>0.021</td>\n",
       "      <td>411</td>\n",
       "      <td>3.0</td>\n",
       "      <td>10</td>\n",
       "      <td>idle</td>\n",
       "      <td>10</td>\n",
       "      <td>95.0</td>\n",
       "      <td>100.0</td>\n",
       "      <td>95.0</td>\n",
       "      <td>storage</td>\n",
       "      <td>1</td>\n",
       "    </tr>\n",
       "    <tr>\n",
       "      <td>946651</td>\n",
       "      <td>983619</td>\n",
       "      <td>1022358</td>\n",
       "      <td>33daef83a17d84720f7068787af3ff5d3bf481df2eb76c...</td>\n",
       "      <td>2019-03-07 11:24:14.000</td>\n",
       "      <td>keyOut</td>\n",
       "      <td>14734</td>\n",
       "      <td>0.0</td>\n",
       "      <td>0.0</td>\n",
       "      <td>noBalancing</td>\n",
       "      <td>3.797</td>\n",
       "      <td>1.0</td>\n",
       "      <td>0.400</td>\n",
       "      <td>3.819</td>\n",
       "      <td>0.022</td>\n",
       "      <td>412</td>\n",
       "      <td>3.0</td>\n",
       "      <td>10</td>\n",
       "      <td>idle</td>\n",
       "      <td>10</td>\n",
       "      <td>95.0</td>\n",
       "      <td>100.0</td>\n",
       "      <td>95.0</td>\n",
       "      <td>storage</td>\n",
       "      <td>1</td>\n",
       "    </tr>\n",
       "    <tr>\n",
       "      <td>946652</td>\n",
       "      <td>983620</td>\n",
       "      <td>1022359</td>\n",
       "      <td>33daef83a17d84720f7068787af3ff5d3bf481df2eb76c...</td>\n",
       "      <td>2019-03-07 11:24:44.000</td>\n",
       "      <td>keyOut</td>\n",
       "      <td>14734</td>\n",
       "      <td>0.0</td>\n",
       "      <td>0.0</td>\n",
       "      <td>noBalancing</td>\n",
       "      <td>3.798</td>\n",
       "      <td>1.0</td>\n",
       "      <td>0.375</td>\n",
       "      <td>3.819</td>\n",
       "      <td>0.021</td>\n",
       "      <td>412</td>\n",
       "      <td>3.0</td>\n",
       "      <td>10</td>\n",
       "      <td>idle</td>\n",
       "      <td>10</td>\n",
       "      <td>95.0</td>\n",
       "      <td>100.0</td>\n",
       "      <td>95.0</td>\n",
       "      <td>storage</td>\n",
       "      <td>1</td>\n",
       "    </tr>\n",
       "  </tbody>\n",
       "</table>\n",
       "</div>"
      ],
      "text/plain": [
       "        Unnamed: 0       id  \\\n",
       "946650      983618  1022357   \n",
       "946651      983619  1022358   \n",
       "946652      983620  1022359   \n",
       "\n",
       "                                                      vin  \\\n",
       "946650  33daef83a17d84720f7068787af3ff5d3bf481df2eb76c...   \n",
       "946651  33daef83a17d84720f7068787af3ff5d3bf481df2eb76c...   \n",
       "946652  33daef83a17d84720f7068787af3ff5d3bf481df2eb76c...   \n",
       "\n",
       "                    actual_time powermode  odometer  ambient_temp  \\\n",
       "946650  2019-03-07 11:23:44.000    keyOut     14734           0.0   \n",
       "946651  2019-03-07 11:24:14.000    keyOut     14734           0.0   \n",
       "946652  2019-03-07 11:24:44.000    keyOut     14734           0.0   \n",
       "\n",
       "        vehicle_speed balancing_status  min_voltage  min_temp  \\\n",
       "946650            0.0      noBalancing        3.799       1.0   \n",
       "946651            0.0      noBalancing        3.797       1.0   \n",
       "946652            0.0      noBalancing        3.798       1.0   \n",
       "\n",
       "        traction_current  max_voltage  imbalance  traction_voltage  max_temp  \\\n",
       "946650             0.400        3.820      0.021               411       3.0   \n",
       "946651             0.400        3.819      0.022               412       3.0   \n",
       "946652             0.375        3.819      0.021               412       3.0   \n",
       "\n",
       "        inlet_coolant_temp thermal_manager_mode  outlet_coolant_temp  min_soh  \\\n",
       "946650                  10                 idle                   10     95.0   \n",
       "946651                  10                 idle                   10     95.0   \n",
       "946652                  10                 idle                   10     95.0   \n",
       "\n",
       "          soh  max_soh    cycle  num_cycle  \n",
       "946650  100.0     95.0  storage          1  \n",
       "946651  100.0     95.0  storage          1  \n",
       "946652  100.0     95.0  storage          1  "
      ]
     },
     "execution_count": 5,
     "metadata": {},
     "output_type": "execute_result"
    }
   ],
   "source": [
    "df.head(3)"
   ]
  },
  {
   "cell_type": "code",
   "execution_count": 56,
   "metadata": {},
   "outputs": [],
   "source": [
    "df = df.drop(['vin', 'powermode', 'Unnamed: 0', 'traction_current'], axis=1)"
   ]
  },
  {
   "cell_type": "code",
   "execution_count": 57,
   "metadata": {
    "scrolled": true
   },
   "outputs": [],
   "source": [
    "data = df.set_index('actual_time')"
   ]
  },
  {
   "cell_type": "code",
   "execution_count": 58,
   "metadata": {
    "scrolled": false
   },
   "outputs": [
    {
     "data": {
      "text/html": [
       "<div>\n",
       "<style scoped>\n",
       "    .dataframe tbody tr th:only-of-type {\n",
       "        vertical-align: middle;\n",
       "    }\n",
       "\n",
       "    .dataframe tbody tr th {\n",
       "        vertical-align: top;\n",
       "    }\n",
       "\n",
       "    .dataframe thead th {\n",
       "        text-align: right;\n",
       "    }\n",
       "</style>\n",
       "<table border=\"1\" class=\"dataframe\">\n",
       "  <thead>\n",
       "    <tr style=\"text-align: right;\">\n",
       "      <th></th>\n",
       "      <th>id</th>\n",
       "      <th>odometer</th>\n",
       "      <th>ambient_temp</th>\n",
       "      <th>vehicle_speed</th>\n",
       "      <th>balancing_status</th>\n",
       "      <th>min_voltage</th>\n",
       "      <th>min_temp</th>\n",
       "      <th>max_voltage</th>\n",
       "      <th>imbalance</th>\n",
       "      <th>traction_voltage</th>\n",
       "      <th>max_temp</th>\n",
       "      <th>inlet_coolant_temp</th>\n",
       "      <th>thermal_manager_mode</th>\n",
       "      <th>outlet_coolant_temp</th>\n",
       "      <th>min_soh</th>\n",
       "      <th>soh</th>\n",
       "      <th>max_soh</th>\n",
       "      <th>cycle</th>\n",
       "      <th>num_cycle</th>\n",
       "    </tr>\n",
       "    <tr>\n",
       "      <th>actual_time</th>\n",
       "      <th></th>\n",
       "      <th></th>\n",
       "      <th></th>\n",
       "      <th></th>\n",
       "      <th></th>\n",
       "      <th></th>\n",
       "      <th></th>\n",
       "      <th></th>\n",
       "      <th></th>\n",
       "      <th></th>\n",
       "      <th></th>\n",
       "      <th></th>\n",
       "      <th></th>\n",
       "      <th></th>\n",
       "      <th></th>\n",
       "      <th></th>\n",
       "      <th></th>\n",
       "      <th></th>\n",
       "      <th></th>\n",
       "    </tr>\n",
       "  </thead>\n",
       "  <tbody>\n",
       "    <tr>\n",
       "      <td>2019-03-07 11:23:44.000</td>\n",
       "      <td>1022357</td>\n",
       "      <td>14734</td>\n",
       "      <td>0.0</td>\n",
       "      <td>0.0</td>\n",
       "      <td>noBalancing</td>\n",
       "      <td>3.799</td>\n",
       "      <td>1.0</td>\n",
       "      <td>3.820</td>\n",
       "      <td>0.021</td>\n",
       "      <td>411</td>\n",
       "      <td>3.0</td>\n",
       "      <td>10</td>\n",
       "      <td>idle</td>\n",
       "      <td>10</td>\n",
       "      <td>95.0</td>\n",
       "      <td>100.0</td>\n",
       "      <td>95.0</td>\n",
       "      <td>storage</td>\n",
       "      <td>1</td>\n",
       "    </tr>\n",
       "    <tr>\n",
       "      <td>2019-03-07 11:24:14.000</td>\n",
       "      <td>1022358</td>\n",
       "      <td>14734</td>\n",
       "      <td>0.0</td>\n",
       "      <td>0.0</td>\n",
       "      <td>noBalancing</td>\n",
       "      <td>3.797</td>\n",
       "      <td>1.0</td>\n",
       "      <td>3.819</td>\n",
       "      <td>0.022</td>\n",
       "      <td>412</td>\n",
       "      <td>3.0</td>\n",
       "      <td>10</td>\n",
       "      <td>idle</td>\n",
       "      <td>10</td>\n",
       "      <td>95.0</td>\n",
       "      <td>100.0</td>\n",
       "      <td>95.0</td>\n",
       "      <td>storage</td>\n",
       "      <td>1</td>\n",
       "    </tr>\n",
       "    <tr>\n",
       "      <td>2019-03-07 11:24:44.000</td>\n",
       "      <td>1022359</td>\n",
       "      <td>14734</td>\n",
       "      <td>0.0</td>\n",
       "      <td>0.0</td>\n",
       "      <td>noBalancing</td>\n",
       "      <td>3.798</td>\n",
       "      <td>1.0</td>\n",
       "      <td>3.819</td>\n",
       "      <td>0.021</td>\n",
       "      <td>412</td>\n",
       "      <td>3.0</td>\n",
       "      <td>10</td>\n",
       "      <td>idle</td>\n",
       "      <td>10</td>\n",
       "      <td>95.0</td>\n",
       "      <td>100.0</td>\n",
       "      <td>95.0</td>\n",
       "      <td>storage</td>\n",
       "      <td>1</td>\n",
       "    </tr>\n",
       "  </tbody>\n",
       "</table>\n",
       "</div>"
      ],
      "text/plain": [
       "                              id  odometer  ambient_temp  vehicle_speed  \\\n",
       "actual_time                                                               \n",
       "2019-03-07 11:23:44.000  1022357     14734           0.0            0.0   \n",
       "2019-03-07 11:24:14.000  1022358     14734           0.0            0.0   \n",
       "2019-03-07 11:24:44.000  1022359     14734           0.0            0.0   \n",
       "\n",
       "                        balancing_status  min_voltage  min_temp  max_voltage  \\\n",
       "actual_time                                                                    \n",
       "2019-03-07 11:23:44.000      noBalancing        3.799       1.0        3.820   \n",
       "2019-03-07 11:24:14.000      noBalancing        3.797       1.0        3.819   \n",
       "2019-03-07 11:24:44.000      noBalancing        3.798       1.0        3.819   \n",
       "\n",
       "                         imbalance  traction_voltage  max_temp  \\\n",
       "actual_time                                                      \n",
       "2019-03-07 11:23:44.000      0.021               411       3.0   \n",
       "2019-03-07 11:24:14.000      0.022               412       3.0   \n",
       "2019-03-07 11:24:44.000      0.021               412       3.0   \n",
       "\n",
       "                         inlet_coolant_temp thermal_manager_mode  \\\n",
       "actual_time                                                        \n",
       "2019-03-07 11:23:44.000                  10                 idle   \n",
       "2019-03-07 11:24:14.000                  10                 idle   \n",
       "2019-03-07 11:24:44.000                  10                 idle   \n",
       "\n",
       "                         outlet_coolant_temp  min_soh    soh  max_soh  \\\n",
       "actual_time                                                             \n",
       "2019-03-07 11:23:44.000                   10     95.0  100.0     95.0   \n",
       "2019-03-07 11:24:14.000                   10     95.0  100.0     95.0   \n",
       "2019-03-07 11:24:44.000                   10     95.0  100.0     95.0   \n",
       "\n",
       "                           cycle  num_cycle  \n",
       "actual_time                                  \n",
       "2019-03-07 11:23:44.000  storage          1  \n",
       "2019-03-07 11:24:14.000  storage          1  \n",
       "2019-03-07 11:24:44.000  storage          1  "
      ]
     },
     "execution_count": 58,
     "metadata": {},
     "output_type": "execute_result"
    }
   ],
   "source": [
    "data.head(3)"
   ]
  },
  {
   "cell_type": "markdown",
   "metadata": {},
   "source": [
    "After some additional data cleaning categorical features were encoded. "
   ]
  },
  {
   "cell_type": "code",
   "execution_count": 59,
   "metadata": {},
   "outputs": [],
   "source": [
    "bs = data.balancing_status.str.get_dummies()\n",
    "cy = data.cycle.str.get_dummies()\n",
    "tmm = data.thermal_manager_mode.str.get_dummies()\n",
    "data['c_charge'] = cy['charge']\n",
    "data['c_drive'] = cy['drive']\n",
    "data['c_storage'] = cy['storage']\n",
    "data['bs_noBalancing'] = bs['noBalancing']\n",
    "data['bs_passive'] = bs['passiveBalancing']\n",
    "data['tmm_activeHeating'] = tmm['activeHeating']\n",
    "data['tmm_idle'] = tmm['idle']\n",
    "data = data.drop(columns = ['balancing_status', 'thermal_manager_mode', 'cycle'])"
   ]
  },
  {
   "cell_type": "code",
   "execution_count": 41,
   "metadata": {
    "scrolled": true
   },
   "outputs": [
    {
     "data": {
      "image/png": "[encoded data removed]",
      "text/plain": [
       "<Figure size 1080x360 with 1 Axes>"
      ]
     },
     "metadata": {
      "needs_background": "light"
     },
     "output_type": "display_data"
    }
   ],
   "source": [
    "plt.figure(figsize=(15, 5))\n",
    "plt.plot(data.imbalance)\n",
    "plt.title('Imbalance')\n",
    "plt.show()"
   ]
  },
  {
   "cell_type": "markdown",
   "metadata": {},
   "source": [
    "The lags were created. They start with 8th record (4 minutes) and goes up to the 1 hour with a step of 5 minutes. "
   ]
  },
  {
   "cell_type": "code",
   "execution_count": 60,
   "metadata": {},
   "outputs": [],
   "source": [
    "for i in range(10, 120, 8):\n",
    "    data[\"lag_{}\".format(i)] = data.imbalance.shift(i)"
   ]
  },
  {
   "cell_type": "code",
   "execution_count": 61,
   "metadata": {
    "scrolled": true
   },
   "outputs": [
    {
     "data": {
      "text/html": [
       "<div>\n",
       "<style scoped>\n",
       "    .dataframe tbody tr th:only-of-type {\n",
       "        vertical-align: middle;\n",
       "    }\n",
       "\n",
       "    .dataframe tbody tr th {\n",
       "        vertical-align: top;\n",
       "    }\n",
       "\n",
       "    .dataframe thead th {\n",
       "        text-align: right;\n",
       "    }\n",
       "</style>\n",
       "<table border=\"1\" class=\"dataframe\">\n",
       "  <thead>\n",
       "    <tr style=\"text-align: right;\">\n",
       "      <th></th>\n",
       "      <th>id</th>\n",
       "      <th>odometer</th>\n",
       "      <th>ambient_temp</th>\n",
       "      <th>vehicle_speed</th>\n",
       "      <th>min_voltage</th>\n",
       "      <th>min_temp</th>\n",
       "      <th>max_voltage</th>\n",
       "      <th>imbalance</th>\n",
       "      <th>traction_voltage</th>\n",
       "      <th>max_temp</th>\n",
       "      <th>inlet_coolant_temp</th>\n",
       "      <th>outlet_coolant_temp</th>\n",
       "      <th>min_soh</th>\n",
       "      <th>soh</th>\n",
       "      <th>max_soh</th>\n",
       "      <th>num_cycle</th>\n",
       "      <th>c_charge</th>\n",
       "      <th>c_drive</th>\n",
       "      <th>c_storage</th>\n",
       "      <th>bs_noBalancing</th>\n",
       "      <th>bs_passive</th>\n",
       "      <th>tmm_activeHeating</th>\n",
       "      <th>tmm_idle</th>\n",
       "      <th>lag_10</th>\n",
       "      <th>lag_18</th>\n",
       "      <th>lag_26</th>\n",
       "      <th>lag_34</th>\n",
       "      <th>lag_42</th>\n",
       "      <th>lag_50</th>\n",
       "      <th>lag_58</th>\n",
       "      <th>lag_66</th>\n",
       "      <th>lag_74</th>\n",
       "      <th>lag_82</th>\n",
       "      <th>lag_90</th>\n",
       "      <th>lag_98</th>\n",
       "      <th>lag_106</th>\n",
       "      <th>lag_114</th>\n",
       "    </tr>\n",
       "    <tr>\n",
       "      <th>actual_time</th>\n",
       "      <th></th>\n",
       "      <th></th>\n",
       "      <th></th>\n",
       "      <th></th>\n",
       "      <th></th>\n",
       "      <th></th>\n",
       "      <th></th>\n",
       "      <th></th>\n",
       "      <th></th>\n",
       "      <th></th>\n",
       "      <th></th>\n",
       "      <th></th>\n",
       "      <th></th>\n",
       "      <th></th>\n",
       "      <th></th>\n",
       "      <th></th>\n",
       "      <th></th>\n",
       "      <th></th>\n",
       "      <th></th>\n",
       "      <th></th>\n",
       "      <th></th>\n",
       "      <th></th>\n",
       "      <th></th>\n",
       "      <th></th>\n",
       "      <th></th>\n",
       "      <th></th>\n",
       "      <th></th>\n",
       "      <th></th>\n",
       "      <th></th>\n",
       "      <th></th>\n",
       "      <th></th>\n",
       "      <th></th>\n",
       "      <th></th>\n",
       "      <th></th>\n",
       "      <th></th>\n",
       "      <th></th>\n",
       "      <th></th>\n",
       "    </tr>\n",
       "  </thead>\n",
       "  <tbody>\n",
       "    <tr>\n",
       "      <td>2019-04-02 07:56:38.000</td>\n",
       "      <td>1026133</td>\n",
       "      <td>15875</td>\n",
       "      <td>20.0</td>\n",
       "      <td>0.0</td>\n",
       "      <td>3.573</td>\n",
       "      <td>19.0</td>\n",
       "      <td>3.584</td>\n",
       "      <td>0.011</td>\n",
       "      <td>387</td>\n",
       "      <td>21.0</td>\n",
       "      <td>210</td>\n",
       "      <td>210</td>\n",
       "      <td>95.0</td>\n",
       "      <td>100.0</td>\n",
       "      <td>95.0</td>\n",
       "      <td>27</td>\n",
       "      <td>0</td>\n",
       "      <td>0</td>\n",
       "      <td>1</td>\n",
       "      <td>1</td>\n",
       "      <td>0</td>\n",
       "      <td>0</td>\n",
       "      <td>1</td>\n",
       "      <td>0.011</td>\n",
       "      <td>0.008</td>\n",
       "      <td>0.006</td>\n",
       "      <td>0.007</td>\n",
       "      <td>0.006</td>\n",
       "      <td>0.007</td>\n",
       "      <td>0.010</td>\n",
       "      <td>0.014</td>\n",
       "      <td>0.015</td>\n",
       "      <td>0.013</td>\n",
       "      <td>0.007</td>\n",
       "      <td>0.007</td>\n",
       "      <td>0.006</td>\n",
       "      <td>0.006</td>\n",
       "    </tr>\n",
       "    <tr>\n",
       "      <td>2019-04-02 07:57:08.000</td>\n",
       "      <td>1026134</td>\n",
       "      <td>15875</td>\n",
       "      <td>20.0</td>\n",
       "      <td>0.0</td>\n",
       "      <td>3.572</td>\n",
       "      <td>19.0</td>\n",
       "      <td>3.584</td>\n",
       "      <td>0.012</td>\n",
       "      <td>387</td>\n",
       "      <td>21.0</td>\n",
       "      <td>210</td>\n",
       "      <td>210</td>\n",
       "      <td>95.0</td>\n",
       "      <td>100.0</td>\n",
       "      <td>95.0</td>\n",
       "      <td>27</td>\n",
       "      <td>0</td>\n",
       "      <td>0</td>\n",
       "      <td>1</td>\n",
       "      <td>1</td>\n",
       "      <td>0</td>\n",
       "      <td>0</td>\n",
       "      <td>1</td>\n",
       "      <td>0.010</td>\n",
       "      <td>0.007</td>\n",
       "      <td>0.008</td>\n",
       "      <td>0.006</td>\n",
       "      <td>0.007</td>\n",
       "      <td>0.009</td>\n",
       "      <td>0.010</td>\n",
       "      <td>0.012</td>\n",
       "      <td>0.016</td>\n",
       "      <td>0.014</td>\n",
       "      <td>0.006</td>\n",
       "      <td>0.006</td>\n",
       "      <td>0.007</td>\n",
       "      <td>0.006</td>\n",
       "    </tr>\n",
       "    <tr>\n",
       "      <td>2019-04-02 07:57:38.000</td>\n",
       "      <td>1026135</td>\n",
       "      <td>15875</td>\n",
       "      <td>20.0</td>\n",
       "      <td>0.0</td>\n",
       "      <td>3.573</td>\n",
       "      <td>19.0</td>\n",
       "      <td>3.584</td>\n",
       "      <td>0.011</td>\n",
       "      <td>387</td>\n",
       "      <td>21.0</td>\n",
       "      <td>210</td>\n",
       "      <td>210</td>\n",
       "      <td>95.0</td>\n",
       "      <td>100.0</td>\n",
       "      <td>95.0</td>\n",
       "      <td>27</td>\n",
       "      <td>0</td>\n",
       "      <td>0</td>\n",
       "      <td>1</td>\n",
       "      <td>1</td>\n",
       "      <td>0</td>\n",
       "      <td>0</td>\n",
       "      <td>1</td>\n",
       "      <td>0.011</td>\n",
       "      <td>0.007</td>\n",
       "      <td>0.006</td>\n",
       "      <td>0.008</td>\n",
       "      <td>0.007</td>\n",
       "      <td>0.007</td>\n",
       "      <td>0.012</td>\n",
       "      <td>0.011</td>\n",
       "      <td>0.015</td>\n",
       "      <td>0.015</td>\n",
       "      <td>0.007</td>\n",
       "      <td>0.007</td>\n",
       "      <td>0.007</td>\n",
       "      <td>0.007</td>\n",
       "    </tr>\n",
       "    <tr>\n",
       "      <td>2019-04-02 07:58:08.000</td>\n",
       "      <td>1026136</td>\n",
       "      <td>15875</td>\n",
       "      <td>20.0</td>\n",
       "      <td>0.0</td>\n",
       "      <td>3.572</td>\n",
       "      <td>19.0</td>\n",
       "      <td>3.584</td>\n",
       "      <td>0.012</td>\n",
       "      <td>387</td>\n",
       "      <td>21.0</td>\n",
       "      <td>210</td>\n",
       "      <td>210</td>\n",
       "      <td>95.0</td>\n",
       "      <td>100.0</td>\n",
       "      <td>95.0</td>\n",
       "      <td>27</td>\n",
       "      <td>0</td>\n",
       "      <td>0</td>\n",
       "      <td>1</td>\n",
       "      <td>1</td>\n",
       "      <td>0</td>\n",
       "      <td>0</td>\n",
       "      <td>1</td>\n",
       "      <td>0.011</td>\n",
       "      <td>0.011</td>\n",
       "      <td>0.007</td>\n",
       "      <td>0.008</td>\n",
       "      <td>0.007</td>\n",
       "      <td>0.006</td>\n",
       "      <td>0.008</td>\n",
       "      <td>0.012</td>\n",
       "      <td>0.015</td>\n",
       "      <td>0.014</td>\n",
       "      <td>0.008</td>\n",
       "      <td>0.006</td>\n",
       "      <td>0.007</td>\n",
       "      <td>0.005</td>\n",
       "    </tr>\n",
       "    <tr>\n",
       "      <td>2019-04-02 07:58:38.000</td>\n",
       "      <td>1026137</td>\n",
       "      <td>15875</td>\n",
       "      <td>20.0</td>\n",
       "      <td>0.0</td>\n",
       "      <td>3.572</td>\n",
       "      <td>19.0</td>\n",
       "      <td>3.584</td>\n",
       "      <td>0.012</td>\n",
       "      <td>387</td>\n",
       "      <td>21.0</td>\n",
       "      <td>210</td>\n",
       "      <td>210</td>\n",
       "      <td>95.0</td>\n",
       "      <td>100.0</td>\n",
       "      <td>95.0</td>\n",
       "      <td>27</td>\n",
       "      <td>0</td>\n",
       "      <td>0</td>\n",
       "      <td>1</td>\n",
       "      <td>1</td>\n",
       "      <td>0</td>\n",
       "      <td>0</td>\n",
       "      <td>1</td>\n",
       "      <td>0.010</td>\n",
       "      <td>0.011</td>\n",
       "      <td>0.007</td>\n",
       "      <td>0.008</td>\n",
       "      <td>0.008</td>\n",
       "      <td>0.007</td>\n",
       "      <td>0.009</td>\n",
       "      <td>0.010</td>\n",
       "      <td>0.014</td>\n",
       "      <td>0.015</td>\n",
       "      <td>0.008</td>\n",
       "      <td>0.007</td>\n",
       "      <td>0.007</td>\n",
       "      <td>0.008</td>\n",
       "    </tr>\n",
       "  </tbody>\n",
       "</table>\n",
       "</div>"
      ],
      "text/plain": [
       "                              id  odometer  ambient_temp  vehicle_speed  \\\n",
       "actual_time                                                               \n",
       "2019-04-02 07:56:38.000  1026133     15875          20.0            0.0   \n",
       "2019-04-02 07:57:08.000  1026134     15875          20.0            0.0   \n",
       "2019-04-02 07:57:38.000  1026135     15875          20.0            0.0   \n",
       "2019-04-02 07:58:08.000  1026136     15875          20.0            0.0   \n",
       "2019-04-02 07:58:38.000  1026137     15875          20.0            0.0   \n",
       "\n",
       "                         min_voltage  min_temp  max_voltage  imbalance  \\\n",
       "actual_time                                                              \n",
       "2019-04-02 07:56:38.000        3.573      19.0        3.584      0.011   \n",
       "2019-04-02 07:57:08.000        3.572      19.0        3.584      0.012   \n",
       "2019-04-02 07:57:38.000        3.573      19.0        3.584      0.011   \n",
       "2019-04-02 07:58:08.000        3.572      19.0        3.584      0.012   \n",
       "2019-04-02 07:58:38.000        3.572      19.0        3.584      0.012   \n",
       "\n",
       "                         traction_voltage  max_temp  inlet_coolant_temp  \\\n",
       "actual_time                                                               \n",
       "2019-04-02 07:56:38.000               387      21.0                 210   \n",
       "2019-04-02 07:57:08.000               387      21.0                 210   \n",
       "2019-04-02 07:57:38.000               387      21.0                 210   \n",
       "2019-04-02 07:58:08.000               387      21.0                 210   \n",
       "2019-04-02 07:58:38.000               387      21.0                 210   \n",
       "\n",
       "                         outlet_coolant_temp  min_soh    soh  max_soh  \\\n",
       "actual_time                                                             \n",
       "2019-04-02 07:56:38.000                  210     95.0  100.0     95.0   \n",
       "2019-04-02 07:57:08.000                  210     95.0  100.0     95.0   \n",
       "2019-04-02 07:57:38.000                  210     95.0  100.0     95.0   \n",
       "2019-04-02 07:58:08.000                  210     95.0  100.0     95.0   \n",
       "2019-04-02 07:58:38.000                  210     95.0  100.0     95.0   \n",
       "\n",
       "                         num_cycle  c_charge  c_drive  c_storage  \\\n",
       "actual_time                                                        \n",
       "2019-04-02 07:56:38.000         27         0        0          1   \n",
       "2019-04-02 07:57:08.000         27         0        0          1   \n",
       "2019-04-02 07:57:38.000         27         0        0          1   \n",
       "2019-04-02 07:58:08.000         27         0        0          1   \n",
       "2019-04-02 07:58:38.000         27         0        0          1   \n",
       "\n",
       "                         bs_noBalancing  bs_passive  tmm_activeHeating  \\\n",
       "actual_time                                                              \n",
       "2019-04-02 07:56:38.000               1           0                  0   \n",
       "2019-04-02 07:57:08.000               1           0                  0   \n",
       "2019-04-02 07:57:38.000               1           0                  0   \n",
       "2019-04-02 07:58:08.000               1           0                  0   \n",
       "2019-04-02 07:58:38.000               1           0                  0   \n",
       "\n",
       "                         tmm_idle  lag_10  lag_18  lag_26  lag_34  lag_42  \\\n",
       "actual_time                                                                 \n",
       "2019-04-02 07:56:38.000         1   0.011   0.008   0.006   0.007   0.006   \n",
       "2019-04-02 07:57:08.000         1   0.010   0.007   0.008   0.006   0.007   \n",
       "2019-04-02 07:57:38.000         1   0.011   0.007   0.006   0.008   0.007   \n",
       "2019-04-02 07:58:08.000         1   0.011   0.011   0.007   0.008   0.007   \n",
       "2019-04-02 07:58:38.000         1   0.010   0.011   0.007   0.008   0.008   \n",
       "\n",
       "                         lag_50  lag_58  lag_66  lag_74  lag_82  lag_90  \\\n",
       "actual_time                                                               \n",
       "2019-04-02 07:56:38.000   0.007   0.010   0.014   0.015   0.013   0.007   \n",
       "2019-04-02 07:57:08.000   0.009   0.010   0.012   0.016   0.014   0.006   \n",
       "2019-04-02 07:57:38.000   0.007   0.012   0.011   0.015   0.015   0.007   \n",
       "2019-04-02 07:58:08.000   0.006   0.008   0.012   0.015   0.014   0.008   \n",
       "2019-04-02 07:58:38.000   0.007   0.009   0.010   0.014   0.015   0.008   \n",
       "\n",
       "                         lag_98  lag_106  lag_114  \n",
       "actual_time                                        \n",
       "2019-04-02 07:56:38.000   0.007    0.006    0.006  \n",
       "2019-04-02 07:57:08.000   0.006    0.007    0.006  \n",
       "2019-04-02 07:57:38.000   0.007    0.007    0.007  \n",
       "2019-04-02 07:58:08.000   0.006    0.007    0.005  \n",
       "2019-04-02 07:58:38.000   0.007    0.007    0.008  "
      ]
     },
     "execution_count": 61,
     "metadata": {},
     "output_type": "execute_result"
    }
   ],
   "source": [
    "data.tail()"
   ]
  },
  {
   "cell_type": "markdown",
   "metadata": {},
   "source": [
    "## Train and Test sets"
   ]
  },
  {
   "cell_type": "markdown",
   "metadata": {},
   "source": [
    "In this part the dataset was divided on train and test set with test set 30% of the datset. \n"
   ]
  },
  {
   "cell_type": "code",
   "execution_count": 63,
   "metadata": {},
   "outputs": [],
   "source": [
    "def timeseries_train_test_split(X, y, test_size):\n",
    "   \n",
    "    # get the index after which test set starts\n",
    "    test_index = int(len(X)*(1-test_size))\n",
    "    \n",
    "    X_train = X.iloc[:test_index]\n",
    "    y_train = y.iloc[:test_index]\n",
    "    X_test = X.iloc[test_index:]\n",
    "    y_test = y.iloc[test_index:]\n",
    "    \n",
    "    return X_train, X_test, y_train, y_test"
   ]
  },
  {
   "cell_type": "code",
   "execution_count": 64,
   "metadata": {},
   "outputs": [],
   "source": [
    "y = data.dropna().imbalance\n",
    "X = data.dropna().drop(['imbalance'], axis=1)\n",
    "\n",
    "X_train, X_test, y_train, y_test = timeseries_train_test_split(X, y, test_size=0.3)"
   ]
  },
  {
   "cell_type": "code",
   "execution_count": 65,
   "metadata": {
    "scrolled": true
   },
   "outputs": [],
   "source": [
    "from sklearn.preprocessing import StandardScaler\n",
    "scaler = StandardScaler()\n",
    "X_train_scaled = scaler.fit_transform(X_train)\n",
    "X_test_scaled = scaler.transform(X_test)"
   ]
  },
  {
   "cell_type": "code",
   "execution_count": 66,
   "metadata": {
    "scrolled": true
   },
   "outputs": [
    {
     "name": "stdout",
     "output_type": "stream",
     "text": [
      "(1885, 36)\n",
      "(808, 36)\n",
      "(1885,)\n",
      "(808,)\n"
     ]
    }
   ],
   "source": [
    "print(X_train.shape)\n",
    "print(X_test.shape)\n",
    "print(y_train.shape)\n",
    "print(y_test.shape)"
   ]
  },
  {
   "cell_type": "markdown",
   "metadata": {},
   "source": [
    "## Modeling"
   ]
  },
  {
   "cell_type": "markdown",
   "metadata": {},
   "source": [
    "### Training "
   ]
  },
  {
   "cell_type": "code",
   "execution_count": 73,
   "metadata": {},
   "outputs": [],
   "source": [
    "rf = RandomForestRegressor(n_estimators = 100, random_state = 0)\n",
    "# Train the model on training data\n",
    "rf.fit(X_train, y_train);"
   ]
  },
  {
   "cell_type": "markdown",
   "metadata": {},
   "source": [
    "### Prediction "
   ]
  },
  {
   "cell_type": "code",
   "execution_count": 74,
   "metadata": {
    "scrolled": true
   },
   "outputs": [
    {
     "name": "stdout",
     "output_type": "stream",
     "text": [
      "Mean Absolute Error: 0.0026\n"
     ]
    }
   ],
   "source": [
    "predictions = rf.predict(X_test)\n",
    "errors = abs(predictions - y_test)\n",
    "print('Mean Absolute Error:', round(np.mean(errors), 4))"
   ]
  },
  {
   "cell_type": "code",
   "execution_count": 75,
   "metadata": {},
   "outputs": [
    {
     "name": "stdout",
     "output_type": "stream",
     "text": [
      "Accuracy: 75.1 %.\n"
     ]
    }
   ],
   "source": [
    "# Calculate mean absolute percentage error (MAPE)\n",
    "mape = 100 * (errors / y_test)\n",
    "accuracy = 100 - np.mean(mape)\n",
    "print('Accuracy:', round(accuracy, 2), '%.')"
   ]
  },
  {
   "cell_type": "markdown",
   "metadata": {},
   "source": [
    "## Features Importance"
   ]
  },
  {
   "cell_type": "code",
   "execution_count": 76,
   "metadata": {},
   "outputs": [
    {
     "name": "stdout",
     "output_type": "stream",
     "text": [
      "Variable: traction_voltage     Importance: 0.36\n",
      "Variable: max_voltage          Importance: 0.31\n",
      "Variable: min_voltage          Importance: 0.25\n",
      "Variable: id                   Importance: 0.02\n",
      "Variable: vehicle_speed        Importance: 0.02\n",
      "Variable: num_cycle            Importance: 0.02\n",
      "Variable: odometer             Importance: 0.0\n",
      "Variable: ambient_temp         Importance: 0.0\n",
      "Variable: min_temp             Importance: 0.0\n",
      "Variable: max_temp             Importance: 0.0\n",
      "Variable: inlet_coolant_temp   Importance: 0.0\n",
      "Variable: outlet_coolant_temp  Importance: 0.0\n",
      "Variable: min_soh              Importance: 0.0\n",
      "Variable: soh                  Importance: 0.0\n",
      "Variable: max_soh              Importance: 0.0\n",
      "Variable: c_charge             Importance: 0.0\n",
      "Variable: c_drive              Importance: 0.0\n",
      "Variable: c_storage            Importance: 0.0\n",
      "Variable: bs_noBalancing       Importance: 0.0\n",
      "Variable: bs_passive           Importance: 0.0\n",
      "Variable: tmm_activeHeating    Importance: 0.0\n",
      "Variable: tmm_idle             Importance: 0.0\n",
      "Variable: lag_10               Importance: 0.0\n",
      "Variable: lag_18               Importance: 0.0\n",
      "Variable: lag_26               Importance: 0.0\n",
      "Variable: lag_34               Importance: 0.0\n",
      "Variable: lag_42               Importance: 0.0\n",
      "Variable: lag_50               Importance: 0.0\n",
      "Variable: lag_58               Importance: 0.0\n",
      "Variable: lag_66               Importance: 0.0\n",
      "Variable: lag_74               Importance: 0.0\n",
      "Variable: lag_82               Importance: 0.0\n",
      "Variable: lag_90               Importance: 0.0\n",
      "Variable: lag_98               Importance: 0.0\n",
      "Variable: lag_106              Importance: 0.0\n",
      "Variable: lag_114              Importance: 0.0\n"
     ]
    }
   ],
   "source": [
    "importances = list(rf.feature_importances_)\n",
    "# List of tuples with variable and importance\n",
    "feature_importances = [(feature, round(importance, 2)) for feature, importance in zip(X, importances)]\n",
    "feature_importances = sorted(feature_importances, key = lambda x: x[1], reverse = True)\n",
    "[print('Variable: {:20} Importance: {}'.format(*pair)) for pair in feature_importances];"
   ]
  },
  {
   "cell_type": "code",
   "execution_count": 71,
   "metadata": {
    "scrolled": false
   },
   "outputs": [
    {
     "data": {
      "image/png": "[encoded data removed]",
      "text/plain": [
       "<Figure size 1080x360 with 1 Axes>"
      ]
     },
     "metadata": {
      "needs_background": "light"
     },
     "output_type": "display_data"
    }
   ],
   "source": [
    "x_values = list(range(len(importances)))\n",
    "plt.figure(figsize=(15, 5))\n",
    "plt.bar(x_values, importances)\n",
    "plt.xticks(x_values, X, rotation='vertical')\n",
    "plt.ylabel('Importance'); plt.xlabel('Variable'); plt.title('Variable Importances');"
   ]
  },
  {
   "cell_type": "markdown",
   "metadata": {},
   "source": [
    "The biggest impact has lag_10, because it is the closest lag to the predictied value. Interestingly, the graph above shows that imbalance has significant influence on the min_voltage (18%). "
   ]
  },
  {
   "cell_type": "code",
   "execution_count": 81,
   "metadata": {
    "scrolled": false
   },
   "outputs": [
    {
     "data": {
      "image/png": "[encoded data removed]",
      "text/plain": [
       "<Figure size 1080x504 with 1 Axes>"
      ]
     },
     "metadata": {
      "needs_background": "light"
     },
     "output_type": "display_data"
    }
   ],
   "source": [
    "prediction = rf.predict(X_test)\n",
    "    \n",
    "plt.figure(figsize=(15, 7))\n",
    "plt.plot(prediction, \"g\", label='prediction')\n",
    "plt.plot(y_test.values, label='actual')\n",
    "plt.legend()\n",
    "mape = np.mean(100 * (errors / y_test))\n",
    "accuracy = 100 - mape\n",
    "plt.ylabel('min_voltage'); plt.title('Actual and Predicted Values \\n Accuracy: {}'.format(round(accuracy, 2)));"
   ]
  },
  {
   "cell_type": "markdown",
   "metadata": {},
   "source": [
    "## Results"
   ]
  },
  {
   "cell_type": "markdown",
   "metadata": {},
   "source": [
    "The prediction of the min_voltage with RFR showed on the plot above. Segments in the first part of the data have low residuals. However, the algorithm did not handle unusual behaviour of the vehicle. This can happen because RF has difficulties with extrapolation. "
   ]
  }
 ],
 "metadata": {
  "kernelspec": {
   "display_name": "Python 3",
   "language": "python",
   "name": "python3"
  },
  "language_info": {
   "codemirror_mode": {
    "name": "ipython",
    "version": 3
   },
   "file_extension": ".py",
   "mimetype": "text/x-python",
   "name": "python",
   "nbconvert_exporter": "python",
   "pygments_lexer": "ipython3",
   "version": "3.7.4"
  }
 },
 "nbformat": 4,
 "nbformat_minor": 2
}
